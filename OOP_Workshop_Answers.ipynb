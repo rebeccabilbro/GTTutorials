{
 "cells": [
  {
   "cell_type": "markdown",
   "metadata": {},
   "source": [
    "#Object-Oriented Python"
   ]
  },
  {
   "cell_type": "markdown",
   "metadata": {},
   "source": [
    "Object-oriented programming (OOP) is a way of writing programs that represent real-world problem spaces (in terms of objects, functions, classes, attributes, methods, and inheritance). As Allen Downey explains in __Think Python__, in object-oriented programming, we shift away from framing the *function* as the active agent and toward seeing the *object* as the active agent (http://www.greenteapress.com/thinkpython/html/thinkpython018.html).\n",
    "\n",
    "In this workshop, we are going to create a class that represents the rational numbers. This tutorial is adapted from content in Anand Chitipothu's __Python Practice Book__ http://anandology.com/python-practice-book/index.html."
   ]
  },
  {
   "cell_type": "code",
   "execution_count": 1,
   "metadata": {
    "collapsed": true
   },
   "outputs": [],
   "source": [
    "class RationalNumber:\n",
    "    \"\"\"Any number that can be expressed as the quotient or fraction p/q\n",
    "    of two integers, p and q, with the denominator q not equal to zero.\n",
    "\n",
    "    Since q may be equal to 1, every integer is a rational number.\n",
    "\n",
    "    Addition:        n1/d1 + n2/d2 = (n1*d2 + n2*d1)/(d1*d2)\n",
    "\n",
    "    Subtraction:     n1/d1 - n2/d2 = (n1*d2 - n2*d1)/(d1*d2)\n",
    "\n",
    "    Multiplication:  n1/d1 * n2/d2 = (n1*n2)/(d1*d2)\n",
    "\n",
    "    Division:        (n1/d1) / (n2/d2) = (n1*d2)/(d1*n2)\n",
    "\n",
    "    \"\"\"\n",
    "\n",
    "    def __init__(self, numerator, denominator=1):\n",
    "        self.n = numerator\n",
    "        self.d = denominator\n",
    "\n",
    "    def __add__(self, other):\n",
    "        '''Addition'''\n",
    "        if not isinstance(other, RationalNumber):\n",
    "            other = RationalNumber(other)\n",
    "\n",
    "        n = self.n * other.d + self.d * other.n\n",
    "        d = self.d * other.d\n",
    "        return RationalNumber(n, d)\n",
    "\n",
    "    def __sub__(self, other):\n",
    "        '''Subtraction'''\n",
    "        if not isinstance(other, RationalNumber):\n",
    "            other = RationalNumber(other)\n",
    "\n",
    "        n1, d1 = self.n, self.d\n",
    "        n2, d2 = other.n, other.d\n",
    "        return RationalNumber(n1*d2 - n2*d1, d1*d2)\n",
    "\n",
    "    def __mul__(self, other):\n",
    "        '''Multiplication'''\n",
    "        if not isinstance(other, RationalNumber):\n",
    "            other = RationalNumber(other)\n",
    "\n",
    "        n1, d1 = self.n, self.d\n",
    "        n2, d2 = other.n, other.d\n",
    "        return RationalNumber(n1*n2, d1*d2)\n",
    "\n",
    "    def __div__(self, other):\n",
    "        '''Division'''\n",
    "        if not isinstance(other, RationalNumber):\n",
    "            other = RationalNumber(other)\n",
    "\n",
    "        n1, d1 = self.n, self.d\n",
    "        n2, d2 = other.n, other.d\n",
    "        return RationalNumber(n1*d2, d1*n2)\n",
    "\n",
    "    def __str__(self):\n",
    "        return \"%s/%s\" % (self.n, self.d)\n",
    "\n",
    "    __repr__ = __str__\n",
    "    \n",
    "    \n",
    "    \n",
    "if __name__ == \"__main__\":\n",
    "    x = RationalNumber(1,2)\n",
    "    y = RationalNumber(3,2)\n",
    "    print y*x"
   ]
  },
  {
   "cell_type": "markdown",
   "metadata": {},
   "source": [
    "## Modules"
   ]
  },
  {
   "cell_type": "markdown",
   "metadata": {},
   "source": [
    "Modules are reusable libraries of code. Many libraries come standard with Python. You can import them into a program using the *import* statement. For example:"
   ]
  },
  {
   "cell_type": "code",
   "execution_count": 2,
   "metadata": {
    "collapsed": false
   },
   "outputs": [
    {
     "name": "stdout",
     "output_type": "stream",
     "text": [
      "The first few digits of pi are 3.141593...\n"
     ]
    }
   ],
   "source": [
    "import math\n",
    "print \"The first few digits of pi are %f...\" %math.pi"
   ]
  },
  {
   "cell_type": "markdown",
   "metadata": {},
   "source": [
    "The math module implements many functions for complex mathematical operations using floating point values, including logarithms, trigonometric operations, and irrational numbers like &pi;. "
   ]
  },
  {
   "cell_type": "markdown",
   "metadata": {},
   "source": [
    "As an exercise, let's encapsulate your rational numbers program into a module and then import it."
   ]
  },
  {
   "cell_type": "markdown",
   "metadata": {},
   "source": [
    "1. Create a folder called Mathy, and add your RatNum.py file to the folder.\n",
    "2. Add another file to the folder called \\_\\_init\\_\\_.py. In the file, type \\_\\_init\\_\\_.py.\n",
    "3. Create a third file in that folder called MathQuiz.py that imports everything from RatNum...    \n",
    "4. ...and uses the RationalNumbers class from RatNum. For example:    "
   ]
  },
  {
   "cell_type": "markdown",
   "metadata": {},
   "source": [
    "    from RatNum import \\*    \n",
    "    a = RationalNumber(1,3)\n",
    "    b = RationalNumber(2,3)\n",
    "    print a\\*b"
   ]
  },
  {
   "cell_type": "markdown",
   "metadata": {},
   "source": [
    "In the terminal, navigate to Mathy. When you are inside the folder, type:\n",
    "\n",
    "    python RatNum.py\n",
    "    \n",
    "What did you get?    \n",
    "\n",
    "Now type:    \n",
    "\n",
    "    python MathQuiz.py    \n",
    "    \n",
    "What did you get this time?\n",
    "\n",
    "Why?"
   ]
  },
  {
   "cell_type": "markdown",
   "metadata": {},
   "source": [
    "## Packages"
   ]
  },
  {
   "cell_type": "markdown",
   "metadata": {},
   "source": [
    "A package is a directory of modules. For example, we could make a package by bundling together modules with classes for natural numbers, integers, irrational numbers, and real numbers.  \n",
    "\n",
    "The Python Package Index, or \"PyPI\", is the official third-party software repository for the Python programming language. It is a comprehensive catalog of all open source Python packages and is maintained by the Python Software Foundation. You can download packages from PyPI with the *pip* command in your terminal.\n",
    "\n",
    "PyPI packages are uploaded by individual package maintainers. That means you can write and contribute your own Python packages!"
   ]
  },
  {
   "cell_type": "markdown",
   "metadata": {},
   "source": [
    "# Inheritance"
   ]
  },
  {
   "cell_type": "markdown",
   "metadata": {},
   "source": [
    "Suppose we were to write out another class for another set of numbers, say the natural numbers. What are the rules for addition, subtraction, multiplication, and division? If we can identify shared properties between natural numbers and rational numbers, we could use that information to write a natural number class that 'inherits' properties from our rational number class."
   ]
  }
 ],
 "metadata": {
  "kernelspec": {
   "display_name": "Python 2",
   "language": "python",
   "name": "python2"
  },
  "language_info": {
   "codemirror_mode": {
    "name": "ipython",
    "version": 2
   },
   "file_extension": ".py",
   "mimetype": "text/x-python",
   "name": "python",
   "nbconvert_exporter": "python",
   "pygments_lexer": "ipython2",
   "version": "2.7.9"
  }
 },
 "nbformat": 4,
 "nbformat_minor": 0
}
